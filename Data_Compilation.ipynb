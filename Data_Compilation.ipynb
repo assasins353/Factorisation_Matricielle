{
  "nbformat": 4,
  "nbformat_minor": 0,
  "metadata": {
    "colab": {
      "name": "Untitled1.ipynb",
      "provenance": [],
      "collapsed_sections": [],
      "toc_visible": true,
      "machine_shape": "hm"
    },
    "kernelspec": {
      "name": "python3",
      "display_name": "Python 3"
    }
  },
  "cells": [
    {
      "cell_type": "markdown",
      "metadata": {
        "id": "FsE8KKpHRyNi",
        "colab_type": "text"
      },
      "source": [
        "# Nouvelle section"
      ]
    },
    {
      "cell_type": "code",
      "metadata": {
        "id": "CwOLL35WjSgm",
        "colab_type": "code",
        "colab": {}
      },
      "source": [
        "!tar -xf training_set.tar"
      ],
      "execution_count": 0,
      "outputs": []
    },
    {
      "cell_type": "code",
      "metadata": {
        "id": "4EaQ6dqyjasa",
        "colab_type": "code",
        "colab": {}
      },
      "source": [
        "from os import listdir\n",
        "from os.path import isfile, join\n",
        "mypath=\"training_set\"\n",
        "onlyfiles = [f for f in listdir(mypath) if isfile(join(mypath, f))]"
      ],
      "execution_count": 0,
      "outputs": []
    },
    {
      "cell_type": "code",
      "metadata": {
        "id": "UovQlLWjqZ8r",
        "colab_type": "code",
        "colab": {}
      },
      "source": [
        "import pandas as pd\n",
        "import numpy as np\n",
        "import matplotlib\n",
        "matplotlib.use('nbagg')\n",
        "\n",
        "import matplotlib.pyplot as plt\n",
        "plt.rcParams.update({'figure.max_open_warning': 0})\n",
        "\n",
        "import seaborn as sns\n",
        "sns.set_style('whitegrid')\n",
        "import os\n",
        "from scipy import sparse\n",
        "from scipy.sparse import csr_matrix\n",
        "\n",
        "from sklearn.decomposition import TruncatedSVD\n",
        "from sklearn.metrics.pairwise import cosine_similarity\n",
        "import random"
      ],
      "execution_count": 0,
      "outputs": []
    },
    {
      "cell_type": "code",
      "metadata": {
        "id": "Cgc7fhSCrSRp",
        "colab_type": "code",
        "outputId": "8b206a14-df23-4d43-fc60-b993c3a09df8",
        "colab": {
          "base_uri": "https://localhost:8080/",
          "height": 35
        }
      },
      "source": [
        "cd training_set"
      ],
      "execution_count": 0,
      "outputs": [
        {
          "output_type": "stream",
          "text": [
            "/content/download/training_set\n"
          ],
          "name": "stdout"
        }
      ]
    },
    {
      "cell_type": "markdown",
      "metadata": {
        "id": "SQ5P9Hn0tMqe",
        "colab_type": "text"
      },
      "source": [
        "**Creation du dataframe à partir de nos fichiers**\n"
      ]
    },
    {
      "cell_type": "code",
      "metadata": {
        "id": "TD1Cx93cmaBc",
        "colab_type": "code",
        "colab": {}
      },
      "source": [
        "from datetime import datetime\n",
        "import os\n",
        "start = datetime.now()\n",
        "if not os.path.isfile('data.csv'):\n",
        "    # Create a file 'data.csv' before reading it\n",
        "    # Read all the files in netflix and store them in one big file('data.csv')\n",
        "    # reading from each of the four files and appending each rating to a global file 'train.csv'\n",
        "    data = open('data.csv', mode='w')\n",
        "    \n",
        "    row = list()\n",
        "    files=onlyfiles\n",
        "    i=0\n",
        "    for file in files:\n",
        "\n",
        "        \n",
        "        #print(file)\n",
        "        #print(\"Reading ratings from {}...\".format(file))\n",
        "        with open(file) as f:\n",
        "            for line in f: \n",
        "                del row[:]\n",
        "                line = line.strip()\n",
        "                if line.endswith(':'):\n",
        "                    # All below are ratings for this movie, until another movie appears.\n",
        "                    movie_id = line.replace(':', '')\n",
        "                else:\n",
        "                    row = [x for x in line.split(',')]\n",
        "                    row.insert(0, movie_id)\n",
        "                    data.write(','.join(row))\n",
        "                    data.write('\\n')\n",
        "        i=i+1\n",
        "    data.close()\n",
        "print('Time taken :', datetime.now() - start)"
      ],
      "execution_count": 0,
      "outputs": []
    },
    {
      "cell_type": "code",
      "metadata": {
        "id": "mlzZyyPGqOPP",
        "colab_type": "code",
        "colab": {}
      },
      "source": [
        "df = pd.read_csv('../data.csv', sep=',', \n",
        "                       names=['movie', 'user','rating','date'])\n",
        "df.date = pd.to_datetime(df.date)\n",
        "\n",
        "\n",
        "# ordonner le rating selon la data.\n",
        "\n",
        "df.sort_values(by='date', inplace=True)\n"
      ],
      "execution_count": 0,
      "outputs": []
    },
    {
      "cell_type": "code",
      "metadata": {
        "id": "X7xw_ySGLKr9",
        "colab_type": "code",
        "outputId": "8f310588-1ca4-414b-d6a4-33d7d25df0d5",
        "colab": {
          "base_uri": "https://localhost:8080/",
          "height": 35
        }
      },
      "source": [
        "df.shape\n"
      ],
      "execution_count": 0,
      "outputs": [
        {
          "output_type": "execute_result",
          "data": {
            "text/plain": [
              "(100480507, 4)"
            ]
          },
          "metadata": {
            "tags": []
          },
          "execution_count": 101
        }
      ]
    },
    {
      "cell_type": "code",
      "metadata": {
        "id": "8Oo2B3hYqe5z",
        "colab_type": "code",
        "outputId": "ee3696c0-6d9e-4282-ea15-80c52c7cd96e",
        "colab": {
          "base_uri": "https://localhost:8080/",
          "height": 206
        }
      },
      "source": [
        "df.head()"
      ],
      "execution_count": 0,
      "outputs": [
        {
          "output_type": "execute_result",
          "data": {
            "text/html": [
              "<div>\n",
              "<style scoped>\n",
              "    .dataframe tbody tr th:only-of-type {\n",
              "        vertical-align: middle;\n",
              "    }\n",
              "\n",
              "    .dataframe tbody tr th {\n",
              "        vertical-align: top;\n",
              "    }\n",
              "\n",
              "    .dataframe thead th {\n",
              "        text-align: right;\n",
              "    }\n",
              "</style>\n",
              "<table border=\"1\" class=\"dataframe\">\n",
              "  <thead>\n",
              "    <tr style=\"text-align: right;\">\n",
              "      <th></th>\n",
              "      <th>movie</th>\n",
              "      <th>user</th>\n",
              "      <th>rating</th>\n",
              "      <th>date</th>\n",
              "    </tr>\n",
              "  </thead>\n",
              "  <tbody>\n",
              "    <tr>\n",
              "      <th>55210107</th>\n",
              "      <td>16465</td>\n",
              "      <td>510180</td>\n",
              "      <td>3</td>\n",
              "      <td>1999-11-11</td>\n",
              "    </tr>\n",
              "    <tr>\n",
              "      <th>30917400</th>\n",
              "      <td>15105</td>\n",
              "      <td>510180</td>\n",
              "      <td>4</td>\n",
              "      <td>1999-11-11</td>\n",
              "    </tr>\n",
              "    <tr>\n",
              "      <th>12199060</th>\n",
              "      <td>15894</td>\n",
              "      <td>510180</td>\n",
              "      <td>3</td>\n",
              "      <td>1999-11-11</td>\n",
              "    </tr>\n",
              "    <tr>\n",
              "      <th>8628919</th>\n",
              "      <td>9798</td>\n",
              "      <td>510180</td>\n",
              "      <td>3</td>\n",
              "      <td>1999-11-11</td>\n",
              "    </tr>\n",
              "    <tr>\n",
              "      <th>55544329</th>\n",
              "      <td>15057</td>\n",
              "      <td>510180</td>\n",
              "      <td>5</td>\n",
              "      <td>1999-11-11</td>\n",
              "    </tr>\n",
              "  </tbody>\n",
              "</table>\n",
              "</div>"
            ],
            "text/plain": [
              "          movie    user  rating       date\n",
              "55210107  16465  510180       3 1999-11-11\n",
              "30917400  15105  510180       4 1999-11-11\n",
              "12199060  15894  510180       3 1999-11-11\n",
              "8628919    9798  510180       3 1999-11-11\n",
              "55544329  15057  510180       5 1999-11-11"
            ]
          },
          "metadata": {
            "tags": []
          },
          "execution_count": 62
        }
      ]
    },
    {
      "cell_type": "markdown",
      "metadata": {
        "id": "xEilEEu7vLoi",
        "colab_type": "text"
      },
      "source": [
        "**Verfication des valeurs null**"
      ]
    },
    {
      "cell_type": "code",
      "metadata": {
        "id": "tdRpmiB7vRED",
        "colab_type": "code",
        "outputId": "93421fbf-b091-4f58-f140-703d3e672d52",
        "colab": {
          "base_uri": "https://localhost:8080/",
          "height": 35
        }
      },
      "source": [
        "print(\"aucune valeur null dans notre dataframe : \", sum(df.isnull().any()))"
      ],
      "execution_count": 0,
      "outputs": [
        {
          "output_type": "stream",
          "text": [
            "aucune valeur null dans notre dataframe :  0\n"
          ],
          "name": "stdout"
        }
      ]
    },
    {
      "cell_type": "markdown",
      "metadata": {
        "id": "dOaiL_Y4vWzC",
        "colab_type": "text"
      },
      "source": [
        "**Suppression des duplicatats dans notre dataframe**"
      ]
    },
    {
      "cell_type": "code",
      "metadata": {
        "id": "Wm9Eiu_8vdUl",
        "colab_type": "code",
        "outputId": "f36c2a45-5275-4548-a4c5-0ef131d4ecbc",
        "colab": {
          "base_uri": "https://localhost:8080/",
          "height": 35
        }
      },
      "source": [
        "dup_bool = df.duplicated(['movie','user','rating'])\n",
        "dups = sum(dup_bool) # by considering all columns..( including timestamp)\n",
        "print(\"Il y a  {} valeur dupliquer dans nos data..\".format(dups))"
      ],
      "execution_count": 0,
      "outputs": [
        {
          "output_type": "stream",
          "text": [
            "Il y a  0 valeur dupliquer dans nos data..\n"
          ],
          "name": "stdout"
        }
      ]
    },
    {
      "cell_type": "code",
      "metadata": {
        "id": "Ii0x6S4pg6JH",
        "colab_type": "code",
        "colab": {}
      },
      "source": [
        ""
      ],
      "execution_count": 0,
      "outputs": []
    },
    {
      "cell_type": "markdown",
      "metadata": {
        "id": "06nRa1Fpv9Zg",
        "colab_type": "text"
      },
      "source": [
        "**Creation de la matrice D**"
      ]
    },
    {
      "cell_type": "code",
      "metadata": {
        "id": "T_OQPAcSwDe7",
        "colab_type": "code",
        "outputId": "d19bdfba-4258-40ed-804d-1b871c692b9b",
        "colab": {
          "base_uri": "https://localhost:8080/",
          "height": 127
        }
      },
      "source": [
        "start = datetime.now()\n",
        "if os.path.isfile('train_sparse_matrix.npz'):\n",
        "    print(\"Si D existe on la charge du disque\")\n",
        "    # just get it from the disk instead of computing it\n",
        "    train_sparse_matrix = sparse.load_npz('train_sparse_matrix.npz')\n",
        "    print(\"DONE \")\n",
        "else: \n",
        "    print(\"On créer la matrice D depuis le dataframe\")\n",
        "    # create sparse_matrix and store it for after usage.\n",
        "    # csr_matrix(data_values, (row_index, col_index), shape_of_matrix)\n",
        "    # It should be in such a way that, MATRIX[row, col] = data\n",
        "    sparse_matrix = sparse.csr_matrix((df.rating.values, (df.user.values,\n",
        "                                               df.movie.values)),)\n",
        "    \n",
        "    print('Done. Sa forme : (user, movie) : ',sparse_matrix.shape)\n",
        "    print('Sauvegarde dans le disque')\n",
        "    # save it into disk\n",
        "    sparse.save_npz(\"sparse_matrix.npz\", sparse_matrix)\n",
        "    print('Done \\n')\n",
        "\n",
        "print(datetime.now() - start)"
      ],
      "execution_count": 0,
      "outputs": [
        {
          "output_type": "stream",
          "text": [
            "On créer la matrice D depuis le dataframe\n",
            "Done. Sa forme : (user, movie) :  (2649430, 17771)\n",
            "Sauvegarde dans le disque\n",
            "Done \n",
            "\n",
            "0:01:31.407458\n"
          ],
          "name": "stdout"
        }
      ]
    },
    {
      "cell_type": "markdown",
      "metadata": {
        "id": "6dD3Y6vd5pHj",
        "colab_type": "text"
      },
      "source": [
        "**On supprimme les colonnes entiérement nule**"
      ]
    },
    {
      "cell_type": "code",
      "metadata": {
        "id": "atLvtx5j2kJY",
        "colab_type": "code",
        "colab": {}
      },
      "source": [
        " import scipy\n",
        " D = scipy.sparse.csr_matrix(sparse_matrix)"
      ],
      "execution_count": 0,
      "outputs": []
    },
    {
      "cell_type": "markdown",
      "metadata": {
        "id": "8--lyGAO7Z6X",
        "colab_type": "text"
      },
      "source": [
        "**On supprimme les lignes null**"
      ]
    },
    {
      "cell_type": "code",
      "metadata": {
        "id": "8_H8zKh17ecb",
        "colab_type": "code",
        "colab": {}
      },
      "source": [
        "D = sparse_matrix[sparse_matrix.getnnz(1)>0]"
      ],
      "execution_count": 0,
      "outputs": []
    },
    {
      "cell_type": "markdown",
      "metadata": {
        "id": "Wopu9rT072yw",
        "colab_type": "text"
      },
      "source": [
        "**On save notre matrix**"
      ]
    },
    {
      "cell_type": "code",
      "metadata": {
        "id": "Ssab1Ex47sBC",
        "colab_type": "code",
        "colab": {}
      },
      "source": [
        "sparse.save_npz(\"D.npz\", D)"
      ],
      "execution_count": 0,
      "outputs": []
    },
    {
      "cell_type": "code",
      "metadata": {
        "id": "IfXPMRHpgkZv",
        "colab_type": "code",
        "colab": {}
      },
      "source": [
        "mv D.npz ../"
      ],
      "execution_count": 0,
      "outputs": []
    },
    {
      "cell_type": "code",
      "metadata": {
        "id": "eXulh8u_gdXl",
        "colab_type": "code",
        "outputId": "c0fdad45-bdeb-4e59-a4bd-48cd16cc9e94",
        "colab": {
          "base_uri": "https://localhost:8080/",
          "height": 35
        }
      },
      "source": [
        "sparse_matrix1 = sparse.load_npz('../D.npz')\n",
        "print('Done. Sa forme : (user, movie) : ',sparse_matrix1.shape)"
      ],
      "execution_count": 0,
      "outputs": [
        {
          "output_type": "stream",
          "text": [
            "Done. Sa forme : (user, movie) :  (480189, 17771)\n"
          ],
          "name": "stdout"
        }
      ]
    },
    {
      "cell_type": "code",
      "metadata": {
        "id": "EvXY3ET1s_Da",
        "colab_type": "code",
        "colab": {}
      },
      "source": [
        "rm probe.csv"
      ],
      "execution_count": 0,
      "outputs": []
    },
    {
      "cell_type": "markdown",
      "metadata": {
        "id": "lcGWQXK0TkOd",
        "colab_type": "text"
      },
      "source": [
        "**Construire la matrice T**"
      ]
    },
    {
      "cell_type": "code",
      "metadata": {
        "id": "yJiDXKrARVGC",
        "colab_type": "code",
        "outputId": "81509063-f20b-452d-8390-ad57af6a13d7",
        "colab": {
          "base_uri": "https://localhost:8080/",
          "height": 72
        }
      },
      "source": [
        "from datetime import datetime\n",
        "import os\n",
        "start = datetime.now()\n",
        "if not os.path.isfile('probe.csv'):\n",
        "    # Create a file 'data.csv' before reading it\n",
        "    # Read all the files in netflix and store them in one big file('data.csv')\n",
        "    # reading from each of the four files and appending each rating to a global file 'train.csv'\n",
        "    data = open('probe.csv', mode='w')\n",
        "    \n",
        "    row = list()\n",
        "    files=[\"../probe.txt\"]\n",
        "    i=0\n",
        "    for file in files:\n",
        "        print(\"do\")\n",
        "        if(i%1000==0):\n",
        "           print(i)\n",
        "        \n",
        "        #print(file)\n",
        "        #print(\"Reading ratings from {}...\".format(file))\n",
        "        with open(file) as f:\n",
        "            for line in f: \n",
        "                del row[:]\n",
        "                line = line.strip()\n",
        "                if line.endswith(':'):\n",
        "                    # All below are ratings for this movie, until another movie appears.\n",
        "                    movie_id = line.replace(':', '')\n",
        "                else:\n",
        "                    row = [x for x in line.split(',')]\n",
        "                    row.insert(0, movie_id)\n",
        "                    data.write(','.join(row))\n",
        "                    data.write('\\n')\n",
        "        i=i+1\n",
        "    data.close()\n",
        "print('Time taken :', datetime.now() - start)"
      ],
      "execution_count": 0,
      "outputs": [
        {
          "output_type": "stream",
          "text": [
            "do\n",
            "0\n",
            "Time taken : 0:00:01.959681\n"
          ],
          "name": "stdout"
        }
      ]
    },
    {
      "cell_type": "code",
      "metadata": {
        "id": "mS9C2asrindl",
        "colab_type": "code",
        "colab": {}
      },
      "source": [
        "mv probe.csv ../"
      ],
      "execution_count": 0,
      "outputs": []
    },
    {
      "cell_type": "code",
      "metadata": {
        "id": "VFrgzQrHSG5i",
        "colab_type": "code",
        "outputId": "85b2b9bf-38f2-450c-bbde-ca2206325199",
        "colab": {
          "base_uri": "https://localhost:8080/",
          "height": 206
        }
      },
      "source": [
        "df_probe = pd.read_csv('../probe.csv', sep=',', \n",
        "                       names=['movie', 'user'])\n",
        "\n",
        "\n",
        "\n",
        "# ordonner le rating selon la data.\n",
        "\n",
        "df_probe.head()"
      ],
      "execution_count": 0,
      "outputs": [
        {
          "output_type": "execute_result",
          "data": {
            "text/html": [
              "<div>\n",
              "<style scoped>\n",
              "    .dataframe tbody tr th:only-of-type {\n",
              "        vertical-align: middle;\n",
              "    }\n",
              "\n",
              "    .dataframe tbody tr th {\n",
              "        vertical-align: top;\n",
              "    }\n",
              "\n",
              "    .dataframe thead th {\n",
              "        text-align: right;\n",
              "    }\n",
              "</style>\n",
              "<table border=\"1\" class=\"dataframe\">\n",
              "  <thead>\n",
              "    <tr style=\"text-align: right;\">\n",
              "      <th></th>\n",
              "      <th>movie</th>\n",
              "      <th>user</th>\n",
              "    </tr>\n",
              "  </thead>\n",
              "  <tbody>\n",
              "    <tr>\n",
              "      <th>0</th>\n",
              "      <td>1</td>\n",
              "      <td>30878</td>\n",
              "    </tr>\n",
              "    <tr>\n",
              "      <th>1</th>\n",
              "      <td>1</td>\n",
              "      <td>2647871</td>\n",
              "    </tr>\n",
              "    <tr>\n",
              "      <th>2</th>\n",
              "      <td>1</td>\n",
              "      <td>1283744</td>\n",
              "    </tr>\n",
              "    <tr>\n",
              "      <th>3</th>\n",
              "      <td>1</td>\n",
              "      <td>2488120</td>\n",
              "    </tr>\n",
              "    <tr>\n",
              "      <th>4</th>\n",
              "      <td>1</td>\n",
              "      <td>317050</td>\n",
              "    </tr>\n",
              "  </tbody>\n",
              "</table>\n",
              "</div>"
            ],
            "text/plain": [
              "   movie     user\n",
              "0      1    30878\n",
              "1      1  2647871\n",
              "2      1  1283744\n",
              "3      1  2488120\n",
              "4      1   317050"
            ]
          },
          "metadata": {
            "tags": []
          },
          "execution_count": 32
        }
      ]
    },
    {
      "cell_type": "code",
      "metadata": {
        "id": "3HDSHSmhS2ue",
        "colab_type": "code",
        "colab": {}
      },
      "source": [
        "common = df.merge(df_probe,on=['user','movie'])"
      ],
      "execution_count": 0,
      "outputs": []
    },
    {
      "cell_type": "code",
      "metadata": {
        "id": "ioHmqBlNUZg5",
        "colab_type": "code",
        "outputId": "71e57f8c-c8cc-4615-b776-9cd4d43c0a3a",
        "colab": {
          "base_uri": "https://localhost:8080/",
          "height": 109
        }
      },
      "source": [
        "\n",
        "if os.path.isfile('test_sparse_matrix.npz'):\n",
        "    print(\"Si T existe on la charge du disque\")\n",
        "    # just get it from the disk instead of computing it\n",
        "    test_sparse_matrix = sparse.load_npz('T.npz')\n",
        "    print(\"DONE \")\n",
        "else: \n",
        "    print(\"On créer la matrice T depuis le dataframe\")\n",
        "    # create sparse_matrix and store it for after usage.\n",
        "    # csr_matrix(data_values, (row_index, col_index), shape_of_matrix)\n",
        "    # It should be in such a way that, MATRIX[row, col] = data\n",
        "    test_sparse_matrix = sparse.csr_matrix((common.rating.values, (common.user.values,\n",
        "                                               common.movie.values)),)\n",
        "    \n",
        "    print('Done. Sa forme : (user, movie) : ',test_sparse_matrix.shape)\n",
        "    print('Sauvegarde dans le disque')\n",
        "    # save it into disk\n",
        "    sparse.save_npz(\"T.npz\", test_sparse_matrix)\n",
        "    print('Done \\n')\n",
        "\n"
      ],
      "execution_count": 89,
      "outputs": [
        {
          "output_type": "stream",
          "text": [
            "On créer la matrice T depuis le dataframe\n",
            "Done. Sa forme : (user, movie) :  (2649430, 17771)\n",
            "Sauvegarde dans le disque\n",
            "Done \n",
            "\n"
          ],
          "name": "stdout"
        }
      ]
    },
    {
      "cell_type": "code",
      "metadata": {
        "id": "3AibaoPkwcKV",
        "colab_type": "code",
        "colab": {}
      },
      "source": [
        "col= [ i for i in range(17771) if i!=0 ]\n"
      ],
      "execution_count": 0,
      "outputs": []
    },
    {
      "cell_type": "code",
      "metadata": {
        "id": "Cxvmqvjha9wz",
        "colab_type": "code",
        "outputId": "51f0f78b-8d99-4187-e9c5-669f6042e0ed",
        "colab": {
          "base_uri": "https://localhost:8080/",
          "height": 35
        }
      },
      "source": [
        "#col=np.where(test_sparse_matrix.sum(axis=0)!=0)[1]\n",
        "test_sparse_matrix=test_sparse_matrix[:,col]\n",
        "T = test_sparse_matrix[df.user.unique()]\n",
        "print('Done. Sa forme : (user, movie) : ',T.shape)\n"
      ],
      "execution_count": 79,
      "outputs": [
        {
          "output_type": "stream",
          "text": [
            "Done. Sa forme : (user, movie) :  (480189, 17770)\n"
          ],
          "name": "stdout"
        }
      ]
    },
    {
      "cell_type": "code",
      "metadata": {
        "id": "QIAxWCP-bv0B",
        "colab_type": "code",
        "outputId": "45296f09-4461-4b91-8f1b-a54aa50f4408",
        "colab": {
          "base_uri": "https://localhost:8080/",
          "height": 35
        }
      },
      "source": [
        "test_sparse_matrix1 = sparse.load_npz('T.npz')\n",
        "print('Done. Sa forme : (user, movie) : ',test_sparse_matrix1.shape)"
      ],
      "execution_count": 87,
      "outputs": [
        {
          "output_type": "stream",
          "text": [
            "Done. Sa forme : (user, movie) :  (480189, 17770)\n"
          ],
          "name": "stdout"
        }
      ]
    },
    {
      "cell_type": "code",
      "metadata": {
        "id": "zrhSSOiq4-5O",
        "colab_type": "code",
        "colab": {}
      },
      "source": [
        "mv T.npz ../"
      ],
      "execution_count": 0,
      "outputs": []
    },
    {
      "cell_type": "markdown",
      "metadata": {
        "id": "MOg6RbyvcPS3",
        "colab_type": "text"
      },
      "source": [
        "**Matrice R**"
      ]
    },
    {
      "cell_type": "code",
      "metadata": {
        "id": "4xGv7fKUCxv7",
        "colab_type": "code",
        "colab": {}
      },
      "source": [
        "df1=df.iloc[:,0:2]"
      ],
      "execution_count": 0,
      "outputs": []
    },
    {
      "cell_type": "code",
      "metadata": {
        "id": "H7jrJ9e4Fe1C",
        "colab_type": "code",
        "colab": {}
      },
      "source": [
        "R_df=pd.merge(df1,df_probe, indicator=True, how='outer').query('_merge==\"left_only\"').drop('_merge', axis=1)"
      ],
      "execution_count": 0,
      "outputs": []
    },
    {
      "cell_type": "code",
      "metadata": {
        "id": "5XXT97DrdNUU",
        "colab_type": "code",
        "outputId": "a1f6d4c3-9b3c-40f2-8d3c-7bb3de4f5b06",
        "colab": {
          "base_uri": "https://localhost:8080/",
          "height": 35
        }
      },
      "source": [
        "R_df.shape"
      ],
      "execution_count": 96,
      "outputs": [
        {
          "output_type": "execute_result",
          "data": {
            "text/plain": [
              "(99072112, 2)"
            ]
          },
          "metadata": {
            "tags": []
          },
          "execution_count": 96
        }
      ]
    },
    {
      "cell_type": "code",
      "metadata": {
        "id": "B5h-kRaRIias",
        "colab_type": "code",
        "outputId": "e90c0e57-aeb1-4cf9-cfdf-ba9c52323b75",
        "colab": {
          "base_uri": "https://localhost:8080/",
          "height": 35
        }
      },
      "source": [
        "R_df = df.merge(R_df,on=['user','movie'])\n",
        "R_df.shape"
      ],
      "execution_count": 97,
      "outputs": [
        {
          "output_type": "execute_result",
          "data": {
            "text/plain": [
              "(99072112, 4)"
            ]
          },
          "metadata": {
            "tags": []
          },
          "execution_count": 97
        }
      ]
    },
    {
      "cell_type": "code",
      "metadata": {
        "id": "RQrH6dthjcXr",
        "colab_type": "code",
        "outputId": "624ac315-566c-41b4-99f7-4ac21687618d",
        "colab": {
          "base_uri": "https://localhost:8080/",
          "height": 109
        }
      },
      "source": [
        "if os.path.isfile('train_sparse_matrix.npz'):\n",
        "    print(\"Si R existe on la charge du disque\")\n",
        "    # just get it from the disk instead of computing it\n",
        "    train_sparse_matrix = sparse.load_npz('R.npz')\n",
        "    print(\"DONE \")\n",
        "else: \n",
        "    print(\"On créer la matrice R depuis le dataframe\")\n",
        "    # create sparse_matrix and store it for after usage.\n",
        "    # csr_matrix(data_values, (row_index, col_index), shape_of_matrix)\n",
        "    # It should be in such a way that, MATRIX[row, col] = data\n",
        "    train_sparse_matrix = sparse.csr_matrix((R_df.rating.values, (R_df.user.values,\n",
        "                                               R_df.movie.values)),)\n",
        "    \n",
        "    print('Done. Sa forme : (user, movie) : ',train_sparse_matrix.shape)\n",
        "    print('Sauvegarde dans le disque')\n",
        "    # save it into disk\n",
        "    sparse.save_npz(\"R.npz\", train_sparse_matrix)\n",
        "    print('Done \\n')\n"
      ],
      "execution_count": 98,
      "outputs": [
        {
          "output_type": "stream",
          "text": [
            "On créer la matrice R depuis le dataframe\n",
            "Done. Sa forme : (user, movie) :  (2649430, 17771)\n",
            "Sauvegarde dans le disque\n",
            "Done \n",
            "\n"
          ],
          "name": "stdout"
        }
      ]
    },
    {
      "cell_type": "code",
      "metadata": {
        "id": "OHauOT-DIrhh",
        "colab_type": "code",
        "colab": {}
      },
      "source": [
        "mv R.npz ../"
      ],
      "execution_count": 0,
      "outputs": []
    },
    {
      "cell_type": "code",
      "metadata": {
        "id": "92iBQLROOMW0",
        "colab_type": "code",
        "outputId": "61b612b1-f6bc-47d5-9214-fbe12575a47d",
        "colab": {
          "base_uri": "https://localhost:8080/",
          "height": 35
        }
      },
      "source": [
        " import scipy\n",
        " M = scipy.sparse.csr_matrix(train_sparse_matrix)\n",
        " M.shape"
      ],
      "execution_count": 100,
      "outputs": [
        {
          "output_type": "execute_result",
          "data": {
            "text/plain": [
              "(2649430, 17771)"
            ]
          },
          "metadata": {
            "tags": []
          },
          "execution_count": 100
        }
      ]
    },
    {
      "cell_type": "code",
      "metadata": {
        "id": "PsJ_Be2ikV62",
        "colab_type": "code",
        "colab": {}
      },
      "source": [
        "col=np.where(train_sparse_matrix.sum(axis=0)!=0)[1]\n",
        "train_sparse_matrix=train_sparse_matrix[:,col]\n",
        "R = train_sparse_matrix[train_sparse_matrix.getnnz(1)>0]\n",
        "sparse.save_npz(\"../R.npz\", R)"
      ],
      "execution_count": 0,
      "outputs": []
    },
    {
      "cell_type": "code",
      "metadata": {
        "id": "4LYssumFkhcs",
        "colab_type": "code",
        "outputId": "3a206a6d-e00d-4bd6-a58d-d841beab357a",
        "colab": {
          "base_uri": "https://localhost:8080/",
          "height": 35
        }
      },
      "source": [
        "train_sparse_matrix1 = sparse.load_npz('../R.npz')\n",
        "print('Done. Sa forme : (user, movie) : ',train_sparse_matrix1.shape)"
      ],
      "execution_count": 102,
      "outputs": [
        {
          "output_type": "stream",
          "text": [
            "Done. Sa forme : (user, movie) :  (480189, 17770)\n"
          ],
          "name": "stdout"
        }
      ]
    }
  ]
}